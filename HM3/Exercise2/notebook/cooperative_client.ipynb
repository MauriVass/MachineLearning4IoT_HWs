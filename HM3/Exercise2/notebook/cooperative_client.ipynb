{
  "nbformat": 4,
  "nbformat_minor": 0,
  "metadata": {
    "colab": {
      "name": "cooperative_client.ipynb",
      "provenance": [],
      "collapsed_sections": []
    },
    "kernelspec": {
      "name": "python3",
      "display_name": "Python 3"
    }
  },
  "cells": [
    {
      "cell_type": "code",
      "metadata": {
        "colab": {
          "base_uri": "https://localhost:8080/"
        },
        "id": "GyIDOWiW8M6r",
        "outputId": "89f354c3-ccbe-45ef-a102-c076cafc0106"
      },
      "source": [
        "!apt install libasound2-dev portaudio19-dev libportaudio2 libportaudiocpp0 ffmpeg\r\n",
        "!pip install pyaudio\r\n",
        "!pip install paho-mqtt"
      ],
      "execution_count": 17,
      "outputs": [
        {
          "output_type": "stream",
          "text": [
            "Reading package lists... Done\n",
            "Building dependency tree       \n",
            "Reading state information... Done\n",
            "libportaudio2 is already the newest version (19.6.0-1).\n",
            "libportaudiocpp0 is already the newest version (19.6.0-1).\n",
            "portaudio19-dev is already the newest version (19.6.0-1).\n",
            "libasound2-dev is already the newest version (1.1.3-5ubuntu0.5).\n",
            "ffmpeg is already the newest version (7:3.4.8-0ubuntu0.2).\n",
            "0 upgraded, 0 newly installed, 0 to remove and 16 not upgraded.\n",
            "Requirement already satisfied: pyaudio in /usr/local/lib/python3.6/dist-packages (0.2.11)\n",
            "Requirement already satisfied: paho-mqtt in /usr/local/lib/python3.6/dist-packages (1.5.1)\n"
          ],
          "name": "stdout"
        }
      ]
    },
    {
      "cell_type": "code",
      "metadata": {
        "id": "Tmkxg9k68AzR"
      },
      "source": [
        "import time\r\n",
        "import sys\r\n",
        "import json\r\n",
        "import pyaudio\r\n",
        "import datetime\r\n",
        "import tensorflow as tf\r\n",
        "import numpy as np\r\n",
        "import base64\r\n",
        "\r\n",
        "# sys.path.insert(0, './../../')\r\n",
        "from DoSomething import DoSomething\r\n",
        "\r\n",
        "class Receiver(DoSomething):\r\n",
        "  def __init__(self,clientID, model):\r\n",
        "    super().__init__(clientID)\r\n",
        "    self.model = model\r\n",
        "\r\n",
        "  def notify(self, topic, msg):\r\n",
        "    # print(topic, msg)\r\n",
        "    r = msg.decode('utf-8')\r\n",
        "    r = json.loads(r)\r\n",
        "    events = r['e']\r\n",
        "    audio = events[0]['vd']\r\n",
        "\r\n",
        "    audio_bytes = audio.encode()\r\n",
        "    audio_bytes = base64.b64decode(audio_bytes)\r\n",
        "    data = tf.io.decode_raw(audio_bytes,tf.float32)\r\n",
        "    dims = events[0]['dims']\r\n",
        "    data = tf.reshape(data,dims) #or anything else\r\n",
        "    data = tf.expand_dims(data,0)\r\n",
        "\r\n",
        "    prediction = self.model.Evaluate(data)\r\n",
        "    prediction = [np.argmax(prediction)]\r\n",
        "\r\n",
        "    timestamp = int(datetime.datetime.now().timestamp())\r\n",
        "    body = { 'timestamp': timestamp, 'prediction':0 , 'index':0  }\r\n",
        "    print(body)\r\n",
        "    body = json.dumps(body)\r\n",
        "    #client_rpi.myMqttClient.\r\n",
        "    self.myMqttClient.myPublish(idtopic+\"prediction/\" ,body ,False)\r\n",
        "\r\n",
        "class Model:\r\n",
        "  def __init__(self, model_path):\r\n",
        "    self.model_path = model_path\r\n",
        "\r\n",
        "    if(model_path.find('zlib')>0):\r\n",
        "      raise KeyError('YOU CAN\\'T TEST A .zlib MODEL. (Use zipping=False in Optimize() method)')\r\n",
        "    self.interpreter = tf.lite.Interpreter(model_path=model_path)\r\n",
        "    self.interpreter.allocate_tensors()\r\n",
        "\r\n",
        "    self.input_details = self.interpreter.get_input_details()\r\n",
        "    self.output_details = self.interpreter.get_output_details()\r\n",
        "\r\n",
        "  def Evaluate(self,input_data):\r\n",
        "    self.interpreter.set_tensor(self.input_details[0]['index'], input_data)\r\n",
        "    self.interpreter.invoke()\r\n",
        "    output = self.interpreter.get_tensor(self.output_details[0]['index'])[0]\r\n",
        "    return output\r\n",
        "\r\n"
      ],
      "execution_count": 4,
      "outputs": []
    },
    {
      "cell_type": "code",
      "metadata": {
        "colab": {
          "base_uri": "https://localhost:8080/",
          "height": 409
        },
        "id": "-IGc44jR8HgP",
        "outputId": "0981946c-1499-4b94-a311-29b576e2a266"
      },
      "source": [
        "if __name__ == \"__main__\":\r\n",
        "\tmodel_path = 'KS_DSCNNTruespars0.9.tflite_W'\r\n",
        "\tmodel = Model(model_path)\r\n",
        "\r\n",
        "\tcoop_client = Receiver(\"Coop Client\", model)\r\n",
        "\tcoop_client.run()\r\n",
        "\tidtopic = '/Group14_ML4IoT/'\r\n",
        "\tcoop_client.myMqttClient.mySubscribe(idtopic+'audio/')\r\n",
        "\r\n",
        "\ta=0\r\n",
        "\twhile (True): #Find a better way\r\n",
        "\t\ta+=1\r\n",
        "\t\ttime.sleep(1)\r\n",
        "\r\n",
        "\tcoop_client.end()"
      ],
      "execution_count": 5,
      "outputs": [
        {
          "output_type": "stream",
          "text": [
            "running Coop Client\n",
            "subscribing to /Group14_ML4IoT/audio/\n",
            "Connected to mqtt.eclipseprojects.io with result code: 0\n",
            "{'timestamp': 1610484204, 'prediction': 0, 'index': 0}\n",
            "{'timestamp': 1610484204, 'prediction': 0, 'index': 0}\n",
            "{'timestamp': 1610484204, 'prediction': 0, 'index': 0}\n",
            "{'timestamp': 1610484291, 'prediction': 0, 'index': 0}\n",
            "{'timestamp': 1610484291, 'prediction': 0, 'index': 0}\n",
            "{'timestamp': 1610484291, 'prediction': 0, 'index': 0}\n"
          ],
          "name": "stdout"
        },
        {
          "output_type": "error",
          "ename": "KeyboardInterrupt",
          "evalue": "ignored",
          "traceback": [
            "\u001b[0;31m---------------------------------------------------------------------------\u001b[0m",
            "\u001b[0;31mKeyboardInterrupt\u001b[0m                         Traceback (most recent call last)",
            "\u001b[0;32m<ipython-input-5-4b6772a16d2a>\u001b[0m in \u001b[0;36m<module>\u001b[0;34m()\u001b[0m\n\u001b[1;32m     11\u001b[0m         \u001b[0;32mwhile\u001b[0m \u001b[0;34m(\u001b[0m\u001b[0;32mTrue\u001b[0m\u001b[0;34m)\u001b[0m\u001b[0;34m:\u001b[0m \u001b[0;31m#Find a better way\u001b[0m\u001b[0;34m\u001b[0m\u001b[0;34m\u001b[0m\u001b[0m\n\u001b[1;32m     12\u001b[0m                 \u001b[0ma\u001b[0m\u001b[0;34m+=\u001b[0m\u001b[0;36m1\u001b[0m\u001b[0;34m\u001b[0m\u001b[0;34m\u001b[0m\u001b[0m\n\u001b[0;32m---> 13\u001b[0;31m                 \u001b[0mtime\u001b[0m\u001b[0;34m.\u001b[0m\u001b[0msleep\u001b[0m\u001b[0;34m(\u001b[0m\u001b[0;36m1\u001b[0m\u001b[0;34m)\u001b[0m\u001b[0;34m\u001b[0m\u001b[0;34m\u001b[0m\u001b[0m\n\u001b[0m\u001b[1;32m     14\u001b[0m \u001b[0;34m\u001b[0m\u001b[0m\n\u001b[1;32m     15\u001b[0m         \u001b[0mcoop_client\u001b[0m\u001b[0;34m.\u001b[0m\u001b[0mend\u001b[0m\u001b[0;34m(\u001b[0m\u001b[0;34m)\u001b[0m\u001b[0;34m\u001b[0m\u001b[0;34m\u001b[0m\u001b[0m\n",
            "\u001b[0;31mKeyboardInterrupt\u001b[0m: "
          ]
        }
      ]
    },
    {
      "cell_type": "code",
      "metadata": {
        "colab": {
          "base_uri": "https://localhost:8080/"
        },
        "id": "Zr60DroASc4l",
        "outputId": "c73a03ad-c6e7-46f0-f0a2-5ccf02c19083"
      },
      "source": [
        "\r\n",
        "coop_client.end()"
      ],
      "execution_count": 3,
      "outputs": [
        {
          "output_type": "stream",
          "text": [
            "ending Coop Client\n"
          ],
          "name": "stdout"
        }
      ]
    },
    {
      "cell_type": "code",
      "metadata": {
        "id": "N7yEQd6GVkKg"
      },
      "source": [
        ""
      ],
      "execution_count": null,
      "outputs": []
    }
  ]
}